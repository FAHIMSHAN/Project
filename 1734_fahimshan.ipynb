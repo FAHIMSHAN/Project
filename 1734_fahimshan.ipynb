{
 "cells": [
  {
   "cell_type": "code",
   "execution_count": 1,
   "id": "2c7f0028-08aa-4969-9206-7a3392de4cd5",
   "metadata": {},
   "outputs": [],
   "source": [
    "import random\n",
    "board = [\"-\", \"-\", \"-\",\n",
    "         \"-\", \"-\", \"-\",\n",
    "         \"-\", \"-\", \"-\"]\n",
    "\n",
    "currentPlayer = \"X\"\n",
    "winner = None\n",
    "gameRunning = True"
   ]
  },
  {
   "cell_type": "code",
   "execution_count": 3,
   "id": "862bd076-424f-4dff-ad83-72054c1f9e20",
   "metadata": {},
   "outputs": [],
   "source": [
    "#Create a game board\n",
    "def printBoard(board):\n",
    "    print(board[0] + \" | \" + board[1] + \" | \" + board[2])\n",
    "    print(board[3] + \" | \" + board[4] + \" | \" + board[5])\n",
    "    print(board[6] + \" | \" + board[7] + \" | \" + board[8])"
   ]
  },
  {
   "cell_type": "code",
   "execution_count": 5,
   "id": "54424fca-93ed-4ae3-96aa-a470e902408a",
   "metadata": {},
   "outputs": [],
   "source": [
    "#Player input\n",
    "def playerInput(board):\n",
    "    inp = int(input(\"Enter a number btw 1 to 9:\"))\n",
    "    if inp >= 1 and inp <= 9 and board[inp-1] == \"-\":\n",
    "        board[inp-1] = currentPlayer\n",
    "    else:\n",
    "        print(\"Slot already taken by a player\")\n",
    "    "
   ]
  },
  {
   "cell_type": "code",
   "execution_count": 7,
   "id": "829ca7e2-8232-4b0e-bb30-3585e0c240d7",
   "metadata": {},
   "outputs": [],
   "source": [
    "#Check for win and tie\n",
    "def checkHorizontal(board):\n",
    "    global winner\n",
    "    if (board[0] == board[1] == board[2] and board[0]!= \"-\"):\n",
    "        winner = board[0]\n",
    "        return True\n",
    "    elif(board[3] == board[4] == board[5] and board[3]!= \"-\"):\n",
    "        winner = board[3]\n",
    "        return True\n",
    "    elif(board[6] == board[7] == board[8] and board[6]!= \"-\"):\n",
    "        winner = board[6]\n",
    "        return True\n",
    "\n",
    "def chekRow(board):\n",
    "    global winner\n",
    "    if (board[0] == board[3] == board[6] and board[0]!= \"-\"):\n",
    "        winner = board[0]\n",
    "        return True\n",
    "    elif(board[1] == board[4] == board[7] and board[1]!= \"-\"):\n",
    "        winner = board[1]\n",
    "        return True\n",
    "    elif(board[2] == board[5] == board[8] and board[2]!= \"-\"):\n",
    "        winner = board[2]\n",
    "        return True\n",
    "\n",
    "def checkDiag(board):\n",
    "    global winner\n",
    "    if (board[0] == board[4] == board[8] and board[0]!= \"-\"):\n",
    "        winner = board[0]\n",
    "        return True\n",
    "    elif(board[2] == board[4] == board[6] and board[2]!= \"-\"):\n",
    "        winner = board[2]\n",
    "        return True\n",
    "\n",
    "def checkTie(board):\n",
    "    global gameRunning\n",
    "    if \"-\" not in board:\n",
    "        printBoard(board)\n",
    "        print(\"Tie!\")\n",
    "        gameRunning = False\n",
    "\n",
    "def checkWin():\n",
    "    if checkDiag(board) or checkHorizontal(board) or chekRow(board):\n",
    "        print(f\"The winner is {winner}\")\n",
    "   \n",
    "    \n"
   ]
  },
  {
   "cell_type": "code",
   "execution_count": 9,
   "id": "0c0f92ec-236c-4f78-953e-92ff32dede6e",
   "metadata": {},
   "outputs": [],
   "source": [
    "#switch the player\n",
    "def switchPlayer():\n",
    "    global currentPlayer\n",
    "    if currentPlayer == \"X\":\n",
    "        currentPlayer = \"O\"\n",
    "    else:\n",
    "        currentPlayer = \"X\""
   ]
  },
  {
   "cell_type": "code",
   "execution_count": 11,
   "id": "cf9e0770-051a-4d6a-a98c-3ae30aefd24e",
   "metadata": {},
   "outputs": [],
   "source": [
    "#computer\n",
    "def computer(board):\n",
    "    while currentPlayer == \"O\":\n",
    "        position = random.randint(0,8)\n",
    "        if board[position] == \"-\":\n",
    "            board[position] = \"O\"\n",
    "            switchPlayer()"
   ]
  },
  {
   "cell_type": "code",
   "execution_count": 13,
   "id": "efea8cc7-73a8-46bd-b7f3-5926d57f55ba",
   "metadata": {},
   "outputs": [],
   "source": [
    "#check for win or tie"
   ]
  },
  {
   "cell_type": "code",
   "execution_count": null,
   "id": "54f01733-58db-4187-b7c0-89c444318f70",
   "metadata": {},
   "outputs": [
    {
     "name": "stdout",
     "output_type": "stream",
     "text": [
      "O | O | -\n",
      "O | X | O\n",
      "- | X | X\n"
     ]
    }
   ],
   "source": [
    "while gameRunning:\n",
    "    printBoard(board)\n",
    "    playerInput(board)\n",
    "    checkWin()\n",
    "    checkTie(board)\n",
    "    switchPlayer()\n",
    "    computer(board)\n",
    "    checkWin()\n",
    "    checkTie(board)\n",
    "    \n",
    "    \n",
    "    \n",
    "    "
   ]
  },
  {
   "cell_type": "code",
   "execution_count": null,
   "id": "3503f80f-ddb5-4752-957e-ec098a552958",
   "metadata": {},
   "outputs": [],
   "source": []
  }
 ],
 "metadata": {
  "kernelspec": {
   "display_name": "Python 3 (ipykernel)",
   "language": "python",
   "name": "python3"
  },
  "language_info": {
   "codemirror_mode": {
    "name": "ipython",
    "version": 3
   },
   "file_extension": ".py",
   "mimetype": "text/x-python",
   "name": "python",
   "nbconvert_exporter": "python",
   "pygments_lexer": "ipython3",
   "version": "3.12.4"
  }
 },
 "nbformat": 4,
 "nbformat_minor": 5
}
